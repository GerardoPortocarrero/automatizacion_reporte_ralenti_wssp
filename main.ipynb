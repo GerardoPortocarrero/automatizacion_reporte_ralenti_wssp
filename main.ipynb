{
 "cells": [
  {
   "cell_type": "code",
   "execution_count": null,
   "id": "39f0d111",
   "metadata": {},
   "outputs": [],
   "source": [
    "from datetime import datetime\n",
    "from pathlib import Path\n",
    "import importlib\n",
    "import time\n",
    "import win32com.client\n",
    "import os\n",
    "import warnings\n",
    "warnings.filterwarnings(\"ignore\")  # Oculta todos los warnings\n",
    "\n",
    "# Mis modulos\n",
    "import download_mail_file as dmf\n",
    "import file_management as fm\n",
    "import graphic_settings as gs\n",
    "import send_reports_through_wssp as srtw\n",
    "import print_management as pm"
   ]
  },
  {
   "cell_type": "markdown",
   "id": "d87a3f4e",
   "metadata": {},
   "source": [
    "### Banner"
   ]
  },
  {
   "cell_type": "code",
   "execution_count": null,
   "id": "55cd7628",
   "metadata": {},
   "outputs": [],
   "source": [
    "# import pyfiglet\n",
    "# print(pyfiglet.figlet_format(\"Ralenti WSSP\"))\n",
    "\n",
    "banner = r\"\"\"\n",
    " ____       _            _   _  __        ______ ____  ____  \n",
    "|  _ \\ __ _| | ___ _ __ | |_(_) \\ \\      / / ___/ ___||  _ \\ \n",
    "| |_) / _` | |/ _ \\ '_ \\| __| |  \\ \\ /\\ / /\\___ \\___ \\| |_) |\n",
    "|  _ < (_| | |  __/ | | | |_| |   \\ V  V /  ___) |__) |  __/ \n",
    "|_| \\_\\__,_|_|\\___|_| |_|\\__|_|    \\_/\\_/  |____/____/|_|                                                               \n",
    "\n",
    "    💥 AUTOMATIZADOR DE ENVIO DE REPORTES POR WSSP 💥\n",
    "\"\"\"\n",
    "\n",
    "print(banner, end='\\n\\n')\n",
    "time.sleep(1)"
   ]
  },
  {
   "cell_type": "markdown",
   "id": "debe545e",
   "metadata": {},
   "source": [
    "### Configuracion"
   ]
  },
  {
   "cell_type": "code",
   "execution_count": null,
   "id": "ed8e2cd8",
   "metadata": {},
   "outputs": [],
   "source": [
    "# Constantes usadas en el notebook\n",
    "MAPI = \"MAPI\" # Messaging Application Programming Interface\n",
    "DOT = \".\"\n",
    "OUTLOOK = \"Outlook\"\n",
    "APPLICATION = \"Application\"\n",
    "\n",
    "# Diccionarios\n",
    "outlook_folder_codes = {\n",
    "    0: 'Calendario',\n",
    "    1: 'Contactos',\n",
    "    2: 'Borradores',\n",
    "    3: 'Diario / Jornal',\n",
    "    4: 'Notas',\n",
    "    5: 'Tareas',\n",
    "    6: 'Bandeja de entrada',\n",
    "    7: 'Bandeja de salida',\n",
    "    8: 'Elementos enviados',\n",
    "    9: 'Elementos eliminados',\n",
    "    10: 'Bandeja de correo del servidor',\n",
    "    11: 'Conflictos',\n",
    "    12: 'Elementos de sincronizacion local',\n",
    "    13: 'Elementos de sincronizacion (Envio)',\n",
    "    14: 'Elementos de sincronización (Recibo)',\n",
    "    15: 'Elementos de sincronización completa',\n",
    "    16: 'Diario de formularios',\n",
    "    17: 'Carpeta de búsqueda',\n",
    "    18: 'Bandeja para reglas cliente',\n",
    "    19: 'Carpeta de sugerencias de correo',\n",
    "}\n",
    "outlook_object_types = {\n",
    "    \"AppointmentItem\": 26,\n",
    "    \"MailItem\": 43,\n",
    "    \"TaskItem\": 46,\n",
    "    \"ContactItem\": 48,\n",
    "    \"MeetingItem\": 53,\n",
    "}\n",
    "parse_locaciones = {\n",
    "    '06 AYA EL PEDREGAL': 'Pedregal',\n",
    "    '38 AYA ATICO': 'Atico',\n",
    "    '40 AYA CHALA': 'Chala',\n",
    "    '88 AYA CAMANA': 'Camana'\n",
    "}\n",
    "months = {\n",
    "    1: 'Enero', 2: 'Febrero', 3: 'Marzo', 4: 'Abril', 5: 'Mayo', 6: 'Junio',\n",
    "    7: 'Julio', 8: 'Agosto', 9: 'Septiembre', 10: 'Octubre', \n",
    "    11: 'Noviembre', 12: 'Diciembre'\n",
    "}\n",
    "conductores_ralenti = {\n",
    "    \"name\": \"Conductores ralenti\",\n",
    "    \"mail_subject\": \"Reporte programado en la base de datos lindley_peru: ACL T2 - Resumen Operativo de Flota (Por Conductor) - AYA\",   # Nombre del asunto de correo\n",
    "    \"mail_file_address\": \"\",                                                                                                            # Direccion del archivo del correo\n",
    "    \"mail_sheet_name\": \"Summary\",\n",
    "    \"mail_received_time\": \"\",\n",
    "    \"mail_data_time\": \"\",\n",
    "    \"relevant_columns\": [\n",
    "        'LOCACION',\n",
    "        'CONDUCTOR',\n",
    "        'RECORRIDO.',\n",
    "        'TIEMPO RALENTI.',\n",
    "    ],\n",
    "    \"reports\": [ # sobre 'TIEMPO RALENTI.'\n",
    "        'CONDUCTOR',\n",
    "    ]\n",
    "}\n",
    "\n",
    "# Listas\n",
    "locaciones = ['PEDREGAL', 'CHALA', 'CAMANA']\n",
    "PEDREGAL = 'PEDREGAL'\n",
    "CAMANA = 'CAMANA'\n",
    "CHALA = 'CHALA'\n",
    "\n",
    "# Constantes\n",
    "project_address = os.getcwd()"
   ]
  },
  {
   "cell_type": "markdown",
   "id": "870c26be",
   "metadata": {},
   "source": [
    "### Obtener correos de Outlook\n",
    "\n",
    "Configuracion de uso de Outlook"
   ]
  },
  {
   "cell_type": "code",
   "execution_count": 17,
   "id": "8fce3bc4",
   "metadata": {},
   "outputs": [
    {
     "name": "stdout",
     "output_type": "stream",
     "text": [
      "Tipo de folder: Bandeja de entrada\n"
     ]
    }
   ],
   "source": [
    "# Conectar a Outlook\n",
    "#outlook_folder_codes = int(input(f'{\" \".join([\"(\" + str(key) + \": \" + value + \")\" for key, value in outlook_folder_codes.items()])}'))\n",
    "outlook = win32com.client.Dispatch(OUTLOOK+DOT+APPLICATION).GetNamespace(MAPI)\n",
    "\n",
    "outlook_folder = outlook.GetDefaultFolder(6)\n",
    "print(f'Tipo de folder: {outlook_folder}')"
   ]
  },
  {
   "cell_type": "markdown",
   "id": "d40e7b16",
   "metadata": {},
   "source": [
    "Guardar archivo de outlook"
   ]
  },
  {
   "cell_type": "code",
   "execution_count": null,
   "id": "706a5e14",
   "metadata": {},
   "outputs": [
    {
     "name": "stdout",
     "output_type": "stream",
     "text": [
      "0\n",
      "94\n",
      "Fecha de datos: 21-06-2025\n",
      "\n"
     ]
    }
   ],
   "source": [
    "importlib.reload(dmf)\n",
    "\n",
    "# Buscar el correo más reciente con archivo Excel\n",
    "mails = outlook_folder.Items\n",
    "\n",
    "# Ordenar por fecha descendente\n",
    "mails.Sort(\"[ReceivedTime]\", True) # (mails) Es un objeto lista\n",
    "\n",
    "''' MAIL PROPERTIES\n",
    "    | (mail.Subject) (mail.ReceivedTime) (mail.SenderName)       |\n",
    "    | (mail.SenderEmailAddress) (mail.To) (mail.CC)              |\n",
    "    | (mail.Body) (mail.Attachments.Count) (mail.CreationTime)   |\n",
    "    | (mail.LastModificationTime) (mail.EntryID)                 |\n",
    "'''\n",
    "\n",
    "(   \n",
    "    df,\n",
    "    conductores_ralenti['mail_file_address'], \n",
    "    conductores_ralenti['mail_received_time'], \n",
    "    conductores_ralenti['mail_data_time'], \n",
    ") = dmf.download_mail_file(\n",
    "    mails, \n",
    "    outlook_object_types['MailItem'],\n",
    "    project_address,\n",
    "    conductores_ralenti\n",
    ")\n",
    "\n",
    "print(f'Fecha de datos: {conductores_ralenti['mail_data_time']}\\n')"
   ]
  },
  {
   "cell_type": "code",
   "execution_count": null,
   "id": "c98fb667",
   "metadata": {},
   "outputs": [],
   "source": [
    "importlib.reload(fm)\n",
    "importlib.reload(pm)\n",
    "\n",
    "df = fm.file_processing(\n",
    "        df,\n",
    "        conductores_ralenti,\n",
    "        PEDREGAL\n",
    "    )\n",
    "\n",
    "pm.show_df(df)\n",
    "pm.show_document(conductores_ralenti)"
   ]
  },
  {
   "cell_type": "code",
   "execution_count": null,
   "id": "867d3204",
   "metadata": {},
   "outputs": [],
   "source": [
    "importlib.reload(gs)\n",
    "\n",
    "gs.main(project_address, df, conductores_ralenti)"
   ]
  },
  {
   "cell_type": "markdown",
   "id": "f694a60b",
   "metadata": {},
   "source": [
    "### Envio de Reporte"
   ]
  },
  {
   "cell_type": "code",
   "execution_count": null,
   "id": "a943f2ef",
   "metadata": {},
   "outputs": [],
   "source": [
    "importlib.reload(srtw)\n",
    "\n",
    "# Envio de reportes a grupo de wssp\n",
    "def send_reports(group_option):\n",
    "    WSSP_CONFIF = {\n",
    "        'page_url': 'https://web.whatsapp.com',\n",
    "        'group_names': ['PEDREGAL - DISTRIBUCIÓN'] if group_option == 1 else ['GrupoPrueba - ón'],\n",
    "    }\n",
    "\n",
    "    srtw.main(project_address, WSSP_CONFIF, conductores_ralenti['mail_data_time'])\n",
    "\n",
    "# 🔁 Bucle de confirmación\n",
    "while True:\n",
    "    print(\"\\nSelecciona grupo de wssp:\")\n",
    "    print(\"  [1] Grupo Oficial\")\n",
    "    print(\"  [2] Grupo de Prueba\")\n",
    "    print(\"  [3] Terminar proceso\")\n",
    "\n",
    "    group_option = int(input(\"\\n>> Opción (1 - 3): \"))\n",
    "\n",
    "    if group_option == 3 or group_option > 2:\n",
    "        print(\"\\n[✓] Proceso finalizado.\")\n",
    "        break  # salir del bucle\n",
    "    else:        \n",
    "        send_reports(group_option)"
   ]
  },
  {
   "cell_type": "markdown",
   "id": "3d9303e5",
   "metadata": {},
   "source": [
    "### Limpiar carpeta"
   ]
  },
  {
   "cell_type": "code",
   "execution_count": null,
   "id": "3f1e115a",
   "metadata": {},
   "outputs": [],
   "source": [
    "carpeta = Path(project_address)\n",
    "#print(list(carpeta.glob('*.png')))\n",
    "\n",
    "# Eliminar archivos .png\n",
    "for imagen in carpeta.glob('*.png'):\n",
    "    imagen.unlink()  # .unlink() elimina el archivo\n",
    "    print(f'Eliminando: {imagen}')\n",
    "\n",
    "# Eliminar archivos .xlsx\n",
    "for imagen in carpeta.glob('*.xlsx'):\n",
    "    imagen.unlink()  # .unlink() elimina el archivo\n",
    "    print(f'Eliminando: {imagen}')"
   ]
  },
  {
   "cell_type": "markdown",
   "id": "957c5c78",
   "metadata": {},
   "source": [
    "### Export it as .py"
   ]
  },
  {
   "cell_type": "code",
   "execution_count": 1,
   "id": "b85953f9",
   "metadata": {},
   "outputs": [
    {
     "name": "stdout",
     "output_type": "stream",
     "text": [
      "✅ Archivo .py creado sin la última celda.\n"
     ]
    }
   ],
   "source": [
    "import nbformat\n",
    "from nbconvert import PythonExporter\n",
    "\n",
    "# Cargar el notebook\n",
    "notebook_path = \"main.ipynb\"\n",
    "with open(notebook_path, \"r\", encoding=\"utf-8\") as f:\n",
    "    nb = nbformat.read(f, as_version=4)\n",
    "\n",
    "# Eliminar la última celda\n",
    "nb['cells'] = nb['cells'][:-1]\n",
    "\n",
    "# Convertir a script .py\n",
    "exporter = PythonExporter()\n",
    "codigo_python, _ = exporter.from_notebook_node(nb)\n",
    "\n",
    "# Guardar el archivo .py\n",
    "with open(\"main.py\", \"w\", encoding=\"utf-8\") as f:\n",
    "    f.write(codigo_python)\n",
    "\n",
    "print(\"✅ Archivo .py creado sin la última celda.\")"
   ]
  }
 ],
 "metadata": {
  "kernelspec": {
   "display_name": "Python 3",
   "language": "python",
   "name": "python3"
  },
  "language_info": {
   "codemirror_mode": {
    "name": "ipython",
    "version": 3
   },
   "file_extension": ".py",
   "mimetype": "text/x-python",
   "name": "python",
   "nbconvert_exporter": "python",
   "pygments_lexer": "ipython3",
   "version": "3.13.3"
  }
 },
 "nbformat": 4,
 "nbformat_minor": 5
}
